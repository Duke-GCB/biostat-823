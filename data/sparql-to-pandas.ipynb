{
 "cells": [
  {
   "cell_type": "markdown",
   "id": "4358f6ba-b06e-4cea-8d66-8576903b113c",
   "metadata": {},
   "source": [
    "## Obtaining a Pandas dataframe from a SPARQL query\n",
    "\n",
    "The package supporting SPARQL endpoint queries in Python is **`SPARQLWrapper`**.\n",
    "\n",
    "The primary return formats of SPARQL endpoints for SELECT queries, XML and JSON, can be a bit unwieldy to deal with programmatically if the goal is a tabular object:"
   ]
  },
  {
   "cell_type": "code",
   "execution_count": 1,
   "id": "cbc16552-69da-41f0-a9cb-fa7a4da315ce",
   "metadata": {},
   "outputs": [],
   "source": [
    "from SPARQLWrapper import SPARQLWrapper, JSON\n",
    "\n",
    "sparql = SPARQLWrapper(endpoint=\"https://ubergraph.apps.renci.org/sparql\",\n",
    "                       returnFormat=JSON)\n",
    "sparql.setQuery(\"\"\"\n",
    "PREFIX obo: <http://purl.obolibrary.org/obo/>\n",
    "PREFIX rdfs: <http://www.w3.org/2000/01/rdf-schema#>\n",
    "\n",
    "SELECT DISTINCT ?o (STR(?oLabel) AS ?label)\n",
    "FROM <http://reasoner.renci.org/ontology>\n",
    "FROM <http://reasoner.renci.org/nonredundant>\n",
    "WHERE {\n",
    "  obo:UBERON_0001423 rdfs:subClassOf ?o .\n",
    "  ?o rdfs:label ?oLabel .\n",
    "}\n",
    "\"\"\")"
   ]
  },
  {
   "cell_type": "code",
   "execution_count": 2,
   "id": "c27d94c0-b9ac-49f2-b918-75858faa8d26",
   "metadata": {},
   "outputs": [
    {
     "data": {
      "text/plain": [
       "{'head': {'vars': ['o', 'label']},\n",
       " 'results': {'bindings': [{'o': {'type': 'uri',\n",
       "     'value': 'http://purl.obolibrary.org/obo/UBERON_0003466'},\n",
       "    'label': {'type': 'literal', 'value': 'forelimb zeugopod bone'}},\n",
       "   {'o': {'type': 'uri',\n",
       "     'value': 'http://purl.obolibrary.org/obo/UBERON_0003607'},\n",
       "    'label': {'type': 'literal', 'value': 'forelimb long bone'}},\n",
       "   {'o': {'type': 'uri',\n",
       "     'value': 'http://purl.obolibrary.org/obo/UBERON_0015001'},\n",
       "    'label': {'type': 'literal', 'value': 'radius endochondral element'}}]}}"
      ]
     },
     "execution_count": 2,
     "metadata": {},
     "output_type": "execute_result"
    }
   ],
   "source": [
    "sparql.query().convert()"
   ]
  },
  {
   "cell_type": "markdown",
   "id": "8954a141-ac82-4d6f-a63d-363b702d5a57",
   "metadata": {},
   "source": [
    "There are other return formats possible (for tabular results, in particular CSV and TSV), but they can require using POST and HTTP content negotation:"
   ]
  },
  {
   "cell_type": "code",
   "execution_count": 3,
   "id": "ac23e5f7-a278-47ac-b74f-ba6e22545f7a",
   "metadata": {},
   "outputs": [
    {
     "name": "stderr",
     "output_type": "stream",
     "text": [
      "/opt/conda/lib/python3.11/site-packages/SPARQLWrapper/Wrapper.py:1179: RuntimeWarning: Format requested was CSV, but XML (application/sparql-results+xml;charset=utf-8) has been returned by the endpoint\n",
      "  warnings.warn(\n"
     ]
    },
    {
     "data": {
      "text/plain": [
       "<xml.dom.minidom.Document at 0xffff8cbfa2d0>"
      ]
     },
     "execution_count": 3,
     "metadata": {},
     "output_type": "execute_result"
    }
   ],
   "source": [
    "from SPARQLWrapper import CSV\n",
    "\n",
    "sparql.setReturnFormat(CSV)\n",
    "sparql.query().convert()"
   ]
  },
  {
   "cell_type": "markdown",
   "id": "17ff3811-097c-497a-a358-36e5d2378a93",
   "metadata": {},
   "source": [
    "The server falls back to RDF/XML, which one may not expect. Making it work requires two more adjustments:"
   ]
  },
  {
   "cell_type": "code",
   "execution_count": 4,
   "id": "be9c1691-7657-4961-aaa6-95d44e306921",
   "metadata": {},
   "outputs": [
    {
     "data": {
      "text/plain": [
       "b'o,label\\r\\nhttp://purl.obolibrary.org/obo/UBERON_0003466,forelimb zeugopod bone\\r\\nhttp://purl.obolibrary.org/obo/UBERON_0003607,forelimb long bone\\r\\nhttp://purl.obolibrary.org/obo/UBERON_0015001,radius endochondral element\\r\\n'"
      ]
     },
     "execution_count": 4,
     "metadata": {},
     "output_type": "execute_result"
    }
   ],
   "source": [
    "from SPARQLWrapper import POST\n",
    "\n",
    "sparql.setReturnFormat(CSV)\n",
    "sparql.setOnlyConneg(True)\n",
    "sparql.setMethod(POST)\n",
    "res = sparql.query().convert()\n",
    "res"
   ]
  },
  {
   "cell_type": "markdown",
   "id": "c9a9887e-cd42-4886-912e-34642078897d",
   "metadata": {},
   "source": [
    "Now at least we have CSV (even if not with Unix EOLs, and even if byte-encoded), which we can decode and convert into a stream to read into Pandas:"
   ]
  },
  {
   "cell_type": "code",
   "execution_count": 5,
   "id": "2d3ad807-7695-4de6-905e-508330e9fce9",
   "metadata": {
    "scrolled": true
   },
   "outputs": [
    {
     "data": {
      "text/html": [
       "<div>\n",
       "<style scoped>\n",
       "    .dataframe tbody tr th:only-of-type {\n",
       "        vertical-align: middle;\n",
       "    }\n",
       "\n",
       "    .dataframe tbody tr th {\n",
       "        vertical-align: top;\n",
       "    }\n",
       "\n",
       "    .dataframe thead th {\n",
       "        text-align: right;\n",
       "    }\n",
       "</style>\n",
       "<table border=\"1\" class=\"dataframe\">\n",
       "  <thead>\n",
       "    <tr style=\"text-align: right;\">\n",
       "      <th></th>\n",
       "      <th>o</th>\n",
       "      <th>label</th>\n",
       "    </tr>\n",
       "  </thead>\n",
       "  <tbody>\n",
       "    <tr>\n",
       "      <th>0</th>\n",
       "      <td>http://purl.obolibrary.org/obo/UBERON_0003466</td>\n",
       "      <td>forelimb zeugopod bone</td>\n",
       "    </tr>\n",
       "    <tr>\n",
       "      <th>1</th>\n",
       "      <td>http://purl.obolibrary.org/obo/UBERON_0003607</td>\n",
       "      <td>forelimb long bone</td>\n",
       "    </tr>\n",
       "    <tr>\n",
       "      <th>2</th>\n",
       "      <td>http://purl.obolibrary.org/obo/UBERON_0015001</td>\n",
       "      <td>radius endochondral element</td>\n",
       "    </tr>\n",
       "  </tbody>\n",
       "</table>\n",
       "</div>"
      ],
      "text/plain": [
       "                                               o                        label\n",
       "0  http://purl.obolibrary.org/obo/UBERON_0003466       forelimb zeugopod bone\n",
       "1  http://purl.obolibrary.org/obo/UBERON_0003607           forelimb long bone\n",
       "2  http://purl.obolibrary.org/obo/UBERON_0015001  radius endochondral element"
      ]
     },
     "execution_count": 5,
     "metadata": {},
     "output_type": "execute_result"
    }
   ],
   "source": [
    "from io import StringIO\n",
    "import pandas as pd\n",
    "\n",
    "pd.read_csv(StringIO(res.decode(\"utf-8\")))"
   ]
  },
  {
   "cell_type": "markdown",
   "id": "d1ef4f8f-13a1-4cbb-9cb2-610e6e0451c1",
   "metadata": {},
   "source": [
    "Fortunately, `SPARQLWrapper.get_sparql_dataframe()` is also available as a much more concise version, and also more type-aware. It uses JSON return format under the hood, which includes type information (though for this query it doesn't matter):"
   ]
  },
  {
   "cell_type": "code",
   "execution_count": 6,
   "id": "2aa1575f-c744-4b3d-87dc-bd068c17d086",
   "metadata": {},
   "outputs": [
    {
     "data": {
      "text/html": [
       "<div>\n",
       "<style scoped>\n",
       "    .dataframe tbody tr th:only-of-type {\n",
       "        vertical-align: middle;\n",
       "    }\n",
       "\n",
       "    .dataframe tbody tr th {\n",
       "        vertical-align: top;\n",
       "    }\n",
       "\n",
       "    .dataframe thead th {\n",
       "        text-align: right;\n",
       "    }\n",
       "</style>\n",
       "<table border=\"1\" class=\"dataframe\">\n",
       "  <thead>\n",
       "    <tr style=\"text-align: right;\">\n",
       "      <th></th>\n",
       "      <th>o</th>\n",
       "      <th>label</th>\n",
       "    </tr>\n",
       "  </thead>\n",
       "  <tbody>\n",
       "    <tr>\n",
       "      <th>0</th>\n",
       "      <td>http://purl.obolibrary.org/obo/UBERON_0003466</td>\n",
       "      <td>forelimb zeugopod bone</td>\n",
       "    </tr>\n",
       "    <tr>\n",
       "      <th>1</th>\n",
       "      <td>http://purl.obolibrary.org/obo/UBERON_0003607</td>\n",
       "      <td>forelimb long bone</td>\n",
       "    </tr>\n",
       "    <tr>\n",
       "      <th>2</th>\n",
       "      <td>http://purl.obolibrary.org/obo/UBERON_0015001</td>\n",
       "      <td>radius endochondral element</td>\n",
       "    </tr>\n",
       "  </tbody>\n",
       "</table>\n",
       "</div>"
      ],
      "text/plain": [
       "                                               o                        label\n",
       "0  http://purl.obolibrary.org/obo/UBERON_0003466       forelimb zeugopod bone\n",
       "1  http://purl.obolibrary.org/obo/UBERON_0003607           forelimb long bone\n",
       "2  http://purl.obolibrary.org/obo/UBERON_0015001  radius endochondral element"
      ]
     },
     "execution_count": 6,
     "metadata": {},
     "output_type": "execute_result"
    }
   ],
   "source": [
    "from SPARQLWrapper import get_sparql_dataframe\n",
    "\n",
    "df = get_sparql_dataframe(endpoint=\"https://ubergraph.apps.renci.org/sparql\", query=\"\"\"\n",
    "PREFIX obo: <http://purl.obolibrary.org/obo/>\n",
    "PREFIX rdfs: <http://www.w3.org/2000/01/rdf-schema#>\n",
    "\n",
    "SELECT DISTINCT ?o (STR(?oLabel) AS ?label)\n",
    "FROM <http://reasoner.renci.org/ontology>\n",
    "FROM <http://reasoner.renci.org/nonredundant>\n",
    "WHERE {\n",
    "  obo:UBERON_0001423 rdfs:subClassOf ?o .\n",
    "  ?o rdfs:label ?oLabel .\n",
    "}\n",
    "\"\"\")\n",
    "df"
   ]
  },
  {
   "cell_type": "code",
   "execution_count": null,
   "id": "051bc08a-e4f9-4b5e-90cc-2fbca9d1d260",
   "metadata": {},
   "outputs": [],
   "source": []
  }
 ],
 "metadata": {
  "kernelspec": {
   "display_name": "Python 3 (ipykernel)",
   "language": "python",
   "name": "python3"
  },
  "language_info": {
   "codemirror_mode": {
    "name": "ipython",
    "version": 3
   },
   "file_extension": ".py",
   "mimetype": "text/x-python",
   "name": "python",
   "nbconvert_exporter": "python",
   "pygments_lexer": "ipython3",
   "version": "3.11.10"
  }
 },
 "nbformat": 4,
 "nbformat_minor": 5
}
