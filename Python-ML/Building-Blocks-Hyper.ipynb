{
 "cells": [
  {
   "cell_type": "markdown",
   "metadata": {},
   "source": [
    "# Hyperparameter optimization\n",
    "\n",
    "### Acknowledgments & Credits\n",
    "\n",
    "This lesson is adapted largely from the excellent curriculum materials by Cliburn Chan (2021) at https://github.com/cliburn/bios-823-2021/ under the MIT License.\n",
    "\n",
    "### References\n",
    "\n",
    "- [Optuna homepage](https://optuna.org/)\n",
    "- [Optuna documentation](https://optuna.readthedocs.io/)"
   ]
  },
  {
   "cell_type": "markdown",
   "metadata": {},
   "source": [
    "## Prepare dataset: MNIST"
   ]
  },
  {
   "cell_type": "code",
   "execution_count": 1,
   "metadata": {},
   "outputs": [],
   "source": [
    "import keras"
   ]
  },
  {
   "cell_type": "code",
   "execution_count": 2,
   "metadata": {},
   "outputs": [],
   "source": [
    "(X_train, y_train), (X_test, y_test) = keras.datasets.mnist.load_data()\n",
    "X_train, X_test = X_train / 255.0, X_test / 255.0\n",
    "X_train = X_train.astype('float32')\n",
    "X_test = X_test.astype('float32')\n",
    "X_train = X_train.reshape(X_train.shape[0], 28, 28, 1)\n",
    "X_test = X_test.reshape(X_test.shape[0], 28, 28, 1)"
   ]
  },
  {
   "cell_type": "markdown",
   "metadata": {},
   "source": [
    "## Define the objective\n",
    "\n",
    "The objective is to optimize the hyperparameters of a neural network. We will use the `optuna` library to orchestrate and run the optimization _trials_ as a _study_.\n",
    "\n",
    "Optuna expects a callable object which will be passed a `trial` object.\n",
    "- The `trial` object is used to sample hyperparameters and report the objective value.\n",
    "- The objective value is the value of the loss function that we are trying to minimize.\n",
    "\n",
    "The callable object could be a function or a class with a `__call__` method. We will use a class with a `__call__` method so that we can easily store and access the data and fixed parameters."
   ]
  },
  {
   "cell_type": "code",
   "execution_count": 3,
   "metadata": {},
   "outputs": [],
   "source": [
    "import optuna"
   ]
  },
  {
   "cell_type": "code",
   "execution_count": 4,
   "metadata": {},
   "outputs": [],
   "source": [
    "import numpy as np\n",
    "from keras.models import Sequential\n",
    "from keras.layers import Conv2D, MaxPooling2D, Dropout, Flatten, Dense, Input"
   ]
  },
  {
   "cell_type": "code",
   "execution_count": 5,
   "metadata": {},
   "outputs": [],
   "source": [
    "def create_model(input_shape, dropout=0.1, num_classes=10):\n",
    "    model = Sequential()\n",
    "    model.add(Input(shape=input_shape))\n",
    "    model.add(Conv2D(32, kernel_size=(3, 3), activation='relu'))\n",
    "    model.add(Conv2D(64, kernel_size=(3, 3), activation='relu'))\n",
    "    model.add(MaxPooling2D(pool_size=(2, 2)))\n",
    "    model.add(Dropout(dropout))\n",
    "    model.add(Flatten())\n",
    "    model.add(Dense(128, activation='relu'))\n",
    "    model.add(Dropout(dropout))\n",
    "    model.add(Dense(num_classes, activation='softmax'))\n",
    "    return model"
   ]
  },
  {
   "cell_type": "code",
   "execution_count": 6,
   "metadata": {},
   "outputs": [],
   "source": [
    "from keras.ops import convert_to_tensor"
   ]
  },
  {
   "cell_type": "code",
   "execution_count": 7,
   "metadata": {},
   "outputs": [],
   "source": [
    "class Objective(object):\n",
    "    def __init__(self, X, y, \n",
    "                 max_epochs, \n",
    "                 input_shape, \n",
    "                 num_classes):\n",
    "        self.X = convert_to_tensor(X)\n",
    "        self.y = convert_to_tensor(y)\n",
    "        self.max_epochs = max_epochs\n",
    "        self.input_shape = input_shape\n",
    "        self.num_classes = num_classes\n",
    " \n",
    "    def __call__(self, trial):        \n",
    "        dropout = trial.suggest_float('dropout', 0.1, 0.4, step=0.05)\n",
    "        batch_size = trial.suggest_categorical('batch_size', [32, 64, 96])\n",
    "        epochs = trial.suggest_int('epochs', 1, self.max_epochs, step=1)   \n",
    "\n",
    "        model = create_model(input_shape=self.input_shape,\n",
    "                             dropout=dropout,\n",
    "                             num_classes=self.num_classes)\n",
    "            \n",
    "        model.compile(optimizer='adam',\n",
    "                      loss='sparse_categorical_crossentropy',\n",
    "                      metrics=['accuracy'])                 \n",
    "             \n",
    "        # fit the model\n",
    "        hist = model.fit(x=self.X, y=self.y,\n",
    "                          batch_size=batch_size,\n",
    "                          validation_split=0.25,\n",
    "                          epochs=epochs)\n",
    "                 \n",
    "        loss = np.min(hist.history['val_loss'])\n",
    "                 \n",
    "        return loss"
   ]
  },
  {
   "cell_type": "code",
   "execution_count": 8,
   "metadata": {},
   "outputs": [],
   "source": [
    "optuna.logging.set_verbosity(0)"
   ]
  },
  {
   "cell_type": "markdown",
   "metadata": {},
   "source": [
    "## Prepare and run study    "
   ]
  },
  {
   "cell_type": "code",
   "execution_count": 9,
   "metadata": {},
   "outputs": [],
   "source": [
    "N = 6\n",
    "max_epochs = 3\n",
    "input_shape = (28,28,1)\n",
    "num_classes = 10"
   ]
  },
  {
   "cell_type": "code",
   "execution_count": 10,
   "metadata": {
    "scrolled": false
   },
   "outputs": [
    {
     "name": "stderr",
     "output_type": "stream",
     "text": [
      "2024-11-27 17:09:34.244632: I metal_plugin/src/device/metal_device.cc:1154] Metal device set to: Apple M2\n",
      "2024-11-27 17:09:34.244650: I metal_plugin/src/device/metal_device.cc:296] systemMemory: 24.00 GB\n",
      "2024-11-27 17:09:34.244665: I metal_plugin/src/device/metal_device.cc:313] maxCacheSize: 8.00 GB\n",
      "2024-11-27 17:09:34.244682: I tensorflow/core/common_runtime/pluggable_device/pluggable_device_factory.cc:305] Could not identify NUMA node of platform GPU ID 0, defaulting to 0. Your kernel may not have been built with NUMA support.\n",
      "2024-11-27 17:09:34.244694: I tensorflow/core/common_runtime/pluggable_device/pluggable_device_factory.cc:271] Created TensorFlow device (/job:localhost/replica:0/task:0/device:GPU:0 with 0 MB memory) -> physical PluggableDevice (device: 0, name: METAL, pci bus id: <undefined>)\n",
      "2024-11-27 17:09:34.936664: I tensorflow/core/grappler/optimizers/custom_graph_optimizer_registry.cc:117] Plugin optimizer for device_type GPU is enabled.\n"
     ]
    },
    {
     "name": "stdout",
     "output_type": "stream",
     "text": [
      "\u001b[1m1407/1407\u001b[0m \u001b[32m━━━━━━━━━━━━━━━━━━━━\u001b[0m\u001b[37m\u001b[0m \u001b[1m20s\u001b[0m 14ms/step - accuracy: 0.8795 - loss: 0.3822 - val_accuracy: 0.9827 - val_loss: 0.0580\n",
      "\u001b[1m1407/1407\u001b[0m \u001b[32m━━━━━━━━━━━━━━━━━━━━\u001b[0m\u001b[37m\u001b[0m \u001b[1m20s\u001b[0m 14ms/step - accuracy: 0.8765 - loss: 0.3900 - val_accuracy: 0.9817 - val_loss: 0.0575\n",
      "\u001b[1m469/469\u001b[0m \u001b[32m━━━━━━━━━━━━━━━━━━━━\u001b[0m\u001b[37m\u001b[0m \u001b[1m10s\u001b[0m 19ms/step - accuracy: 0.8742 - loss: 0.4156 - val_accuracy: 0.9813 - val_loss: 0.0603\n",
      "\u001b[1m704/704\u001b[0m \u001b[32m━━━━━━━━━━━━━━━━━━━━\u001b[0m\u001b[37m\u001b[0m \u001b[1m14s\u001b[0m 17ms/step - accuracy: 0.8644 - loss: 0.4245 - val_accuracy: 0.9828 - val_loss: 0.0606\n",
      "\u001b[1m469/469\u001b[0m \u001b[32m━━━━━━━━━━━━━━━━━━━━\u001b[0m\u001b[37m\u001b[0m \u001b[1m10s\u001b[0m 20ms/step - accuracy: 0.8856 - loss: 0.3725 - val_accuracy: 0.9813 - val_loss: 0.0634\n",
      "Epoch 1/3\n",
      "\u001b[1m704/704\u001b[0m \u001b[32m━━━━━━━━━━━━━━━━━━━━\u001b[0m\u001b[37m\u001b[0m \u001b[1m14s\u001b[0m 18ms/step - accuracy: 0.8706 - loss: 0.4109 - val_accuracy: 0.9813 - val_loss: 0.0615\n",
      "Epoch 2/3\n",
      "\u001b[1m704/704\u001b[0m \u001b[32m━━━━━━━━━━━━━━━━━━━━\u001b[0m\u001b[37m\u001b[0m \u001b[1m12s\u001b[0m 18ms/step - accuracy: 0.9785 - loss: 0.0704 - val_accuracy: 0.9849 - val_loss: 0.0515\n",
      "Epoch 3/3\n",
      "\u001b[1m704/704\u001b[0m \u001b[32m━━━━━━━━━━━━━━━━━━━━\u001b[0m\u001b[37m\u001b[0m \u001b[1m12s\u001b[0m 17ms/step - accuracy: 0.9844 - loss: 0.0492 - val_accuracy: 0.9858 - val_loss: 0.0479\n",
      "CPU times: user 1min 16s, sys: 41.4 s, total: 1min 57s\n",
      "Wall time: 1min 52s\n"
     ]
    }
   ],
   "source": [
    "%%time\n",
    "\n",
    "objective = Objective(X_train, y_train, max_epochs, input_shape, num_classes)\n",
    "study = optuna.create_study(direction='minimize')\n",
    "study.optimize(objective, n_trials=N)"
   ]
  },
  {
   "cell_type": "markdown",
   "metadata": {},
   "source": [
    "## Inspect and visualize study results"
   ]
  },
  {
   "cell_type": "code",
   "execution_count": 15,
   "metadata": {},
   "outputs": [],
   "source": [
    "df = study.trials_dataframe()"
   ]
  },
  {
   "cell_type": "code",
   "execution_count": 19,
   "metadata": {},
   "outputs": [
    {
     "data": {
      "text/html": [
       "<div>\n",
       "<style scoped>\n",
       "    .dataframe tbody tr th:only-of-type {\n",
       "        vertical-align: middle;\n",
       "    }\n",
       "\n",
       "    .dataframe tbody tr th {\n",
       "        vertical-align: top;\n",
       "    }\n",
       "\n",
       "    .dataframe thead th {\n",
       "        text-align: right;\n",
       "    }\n",
       "</style>\n",
       "<table border=\"1\" class=\"dataframe\">\n",
       "  <thead>\n",
       "    <tr style=\"text-align: right;\">\n",
       "      <th></th>\n",
       "      <th>number</th>\n",
       "      <th>value</th>\n",
       "      <th>datetime_start</th>\n",
       "      <th>datetime_complete</th>\n",
       "      <th>duration</th>\n",
       "      <th>params_batch_size</th>\n",
       "      <th>params_dropout</th>\n",
       "      <th>params_epochs</th>\n",
       "      <th>state</th>\n",
       "    </tr>\n",
       "  </thead>\n",
       "  <tbody>\n",
       "    <tr>\n",
       "      <th>0</th>\n",
       "      <td>0</td>\n",
       "      <td>0.058012</td>\n",
       "      <td>2024-11-27 17:09:34.281652</td>\n",
       "      <td>2024-11-27 17:09:54.897451</td>\n",
       "      <td>0 days 00:00:20.615799</td>\n",
       "      <td>32</td>\n",
       "      <td>0.40</td>\n",
       "      <td>1</td>\n",
       "      <td>COMPLETE</td>\n",
       "    </tr>\n",
       "    <tr>\n",
       "      <th>1</th>\n",
       "      <td>1</td>\n",
       "      <td>0.057474</td>\n",
       "      <td>2024-11-27 17:09:54.897565</td>\n",
       "      <td>2024-11-27 17:10:15.165447</td>\n",
       "      <td>0 days 00:00:20.267882</td>\n",
       "      <td>32</td>\n",
       "      <td>0.40</td>\n",
       "      <td>1</td>\n",
       "      <td>COMPLETE</td>\n",
       "    </tr>\n",
       "    <tr>\n",
       "      <th>2</th>\n",
       "      <td>2</td>\n",
       "      <td>0.060288</td>\n",
       "      <td>2024-11-27 17:10:15.165521</td>\n",
       "      <td>2024-11-27 17:10:25.131312</td>\n",
       "      <td>0 days 00:00:09.965791</td>\n",
       "      <td>96</td>\n",
       "      <td>0.20</td>\n",
       "      <td>1</td>\n",
       "      <td>COMPLETE</td>\n",
       "    </tr>\n",
       "    <tr>\n",
       "      <th>3</th>\n",
       "      <td>3</td>\n",
       "      <td>0.060588</td>\n",
       "      <td>2024-11-27 17:10:25.131399</td>\n",
       "      <td>2024-11-27 17:10:38.767878</td>\n",
       "      <td>0 days 00:00:13.636479</td>\n",
       "      <td>64</td>\n",
       "      <td>0.30</td>\n",
       "      <td>1</td>\n",
       "      <td>COMPLETE</td>\n",
       "    </tr>\n",
       "    <tr>\n",
       "      <th>4</th>\n",
       "      <td>4</td>\n",
       "      <td>0.063435</td>\n",
       "      <td>2024-11-27 17:10:38.767948</td>\n",
       "      <td>2024-11-27 17:10:48.912267</td>\n",
       "      <td>0 days 00:00:10.144319</td>\n",
       "      <td>96</td>\n",
       "      <td>0.10</td>\n",
       "      <td>1</td>\n",
       "      <td>COMPLETE</td>\n",
       "    </tr>\n",
       "    <tr>\n",
       "      <th>5</th>\n",
       "      <td>5</td>\n",
       "      <td>0.047923</td>\n",
       "      <td>2024-11-27 17:10:48.912338</td>\n",
       "      <td>2024-11-27 17:11:27.157779</td>\n",
       "      <td>0 days 00:00:38.245441</td>\n",
       "      <td>64</td>\n",
       "      <td>0.35</td>\n",
       "      <td>3</td>\n",
       "      <td>COMPLETE</td>\n",
       "    </tr>\n",
       "  </tbody>\n",
       "</table>\n",
       "</div>"
      ],
      "text/plain": [
       "   number     value             datetime_start          datetime_complete  \\\n",
       "0       0  0.058012 2024-11-27 17:09:34.281652 2024-11-27 17:09:54.897451   \n",
       "1       1  0.057474 2024-11-27 17:09:54.897565 2024-11-27 17:10:15.165447   \n",
       "2       2  0.060288 2024-11-27 17:10:15.165521 2024-11-27 17:10:25.131312   \n",
       "3       3  0.060588 2024-11-27 17:10:25.131399 2024-11-27 17:10:38.767878   \n",
       "4       4  0.063435 2024-11-27 17:10:38.767948 2024-11-27 17:10:48.912267   \n",
       "5       5  0.047923 2024-11-27 17:10:48.912338 2024-11-27 17:11:27.157779   \n",
       "\n",
       "                duration  params_batch_size  params_dropout  params_epochs  \\\n",
       "0 0 days 00:00:20.615799                 32            0.40              1   \n",
       "1 0 days 00:00:20.267882                 32            0.40              1   \n",
       "2 0 days 00:00:09.965791                 96            0.20              1   \n",
       "3 0 days 00:00:13.636479                 64            0.30              1   \n",
       "4 0 days 00:00:10.144319                 96            0.10              1   \n",
       "5 0 days 00:00:38.245441                 64            0.35              3   \n",
       "\n",
       "      state  \n",
       "0  COMPLETE  \n",
       "1  COMPLETE  \n",
       "2  COMPLETE  \n",
       "3  COMPLETE  \n",
       "4  COMPLETE  \n",
       "5  COMPLETE  "
      ]
     },
     "execution_count": 19,
     "metadata": {},
     "output_type": "execute_result"
    }
   ],
   "source": [
    "df"
   ]
  },
  {
   "cell_type": "code",
   "execution_count": 20,
   "metadata": {},
   "outputs": [],
   "source": [
    "from optuna.visualization.matplotlib import plot_param_importances"
   ]
  },
  {
   "cell_type": "code",
   "execution_count": 21,
   "metadata": {},
   "outputs": [
    {
     "name": "stderr",
     "output_type": "stream",
     "text": [
      "/var/folders/_m/95yqs0kj1xsd4l92yjkfr2hm0000gn/T/ipykernel_95964/3836449081.py:1: ExperimentalWarning: plot_param_importances is experimental (supported from v2.2.0). The interface can change in the future.\n",
      "  plot_param_importances(study)\n"
     ]
    },
    {
     "data": {
      "text/plain": [
       "<Axes: title={'left': 'Hyperparameter Importances'}, xlabel='Hyperparameter Importance', ylabel='Hyperparameter'>"
      ]
     },
     "execution_count": 21,
     "metadata": {},
     "output_type": "execute_result"
    },
    {
     "data": {
      "image/png": "[encoded data removed]",
      "text/plain": [
       "<Figure size 640x480 with 1 Axes>"
      ]
     },
     "metadata": {},
     "output_type": "display_data"
    }
   ],
   "source": [
    "plot_param_importances(study)"
   ]
  },
  {
   "cell_type": "code",
   "execution_count": null,
   "metadata": {},
   "outputs": [],
   "source": []
  }
 ],
 "metadata": {
  "kernelspec": {
   "display_name": "Python 3",
   "language": "python",
   "name": "python3"
  },
  "language_info": {
   "codemirror_mode": {
    "name": "ipython",
    "version": 3
   },
   "file_extension": ".py",
   "mimetype": "text/x-python",
   "name": "python",
   "nbconvert_exporter": "python",
   "pygments_lexer": "ipython3",
   "version": "3.11.10"
  }
 },
 "nbformat": 4,
 "nbformat_minor": 2
}
