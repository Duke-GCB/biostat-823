{
 "cells": [
  {
   "cell_type": "markdown",
   "metadata": {},
   "source": [
    "# Hyperparameter optimization\n",
    "\n",
    "### Acknowledgments & Credits\n",
    "\n",
    "This lesson is adapted largely from the excellent curriculum materials by Cliburn Chan (2021) at https://github.com/cliburn/bios-823-2021/ under the MIT License.\n",
    "\n",
    "### References\n",
    "\n",
    "- [Optuna homepage](https://optuna.org/)\n",
    "- [Optuna documentation](https://optuna.readthedocs.io/)"
   ]
  },
  {
   "cell_type": "markdown",
   "metadata": {},
   "source": [
    "## Prepare dataset: MNIST"
   ]
  },
  {
   "cell_type": "code",
   "execution_count": 1,
   "metadata": {},
   "outputs": [],
   "source": [
    "import keras"
   ]
  },
  {
   "cell_type": "code",
   "execution_count": 2,
   "metadata": {},
   "outputs": [],
   "source": [
    "(X_train, y_train), (X_test, y_test) = keras.datasets.mnist.load_data()\n",
    "X_train, X_test = X_train / 255.0, X_test / 255.0\n",
    "X_train = X_train.astype('float32')\n",
    "X_test = X_test.astype('float32')\n",
    "X_train = X_train.reshape(X_train.shape[0], 28, 28, 1)\n",
    "X_test = X_test.reshape(X_test.shape[0], 28, 28, 1)"
   ]
  },
  {
   "cell_type": "markdown",
   "metadata": {},
   "source": [
    "## Define the objective\n",
    "\n",
    "The objective is to optimize the hyperparameters of a neural network. We will use the `optuna` library to orchestrate and run the optimization _trials_ as a _study_.\n",
    "\n",
    "Optuna expects a callable object which will be passed a `trial` object.\n",
    "- The `trial` object is used to sample hyperparameters and report the objective value.\n",
    "- The objective value is the value of the loss function that we are trying to minimize.\n",
    "\n",
    "The callable object could be a function or a class with a `__call__` method. We will use a class with a `__call__` method so that we can easily store and access the data and fixed parameters."
   ]
  },
  {
   "cell_type": "code",
   "execution_count": 3,
   "metadata": {},
   "outputs": [],
   "source": [
    "import optuna"
   ]
  },
  {
   "cell_type": "code",
   "execution_count": 4,
   "metadata": {},
   "outputs": [],
   "source": [
    "import numpy as np\n",
    "from keras.models import Sequential\n",
    "from keras.layers import Conv2D, MaxPooling2D, Dropout, Flatten, Dense, Input"
   ]
  },
  {
   "cell_type": "code",
   "execution_count": 5,
   "metadata": {},
   "outputs": [],
   "source": [
    "class Objective(object):\n",
    "    def __init__(self, X, y, \n",
    "                 max_epochs, \n",
    "                 input_shape, \n",
    "                 num_classes):\n",
    "        self.X = X\n",
    "        self.y = y\n",
    "        self.max_epochs = max_epochs\n",
    "        self.input_shape = input_shape\n",
    "        self.num_classes = num_classes\n",
    " \n",
    "    def __call__(self, trial):        \n",
    "        dropout=trial.suggest_float('dropout', 0.1, 0.4, step=0.05)\n",
    "        batch_size = trial.suggest_categorical('batch_size', [32, 64, 96])\n",
    "        epochs = trial.suggest_int('epochs', 1, self.max_epochs, step=1)   \n",
    "\n",
    "        params = dict(\n",
    "            dropout = dropout,\n",
    "            batch_size = batch_size\n",
    "        )\n",
    "            \n",
    "        model = Sequential()\n",
    "        model.add(Input(shape=self.input_shape))\n",
    "        model.add(Conv2D(32, kernel_size=(3, 3), activation='relu'))\n",
    "        model.add(Conv2D(64, kernel_size=(3, 3), activation='relu'))\n",
    "        model.add(MaxPooling2D(pool_size=(2, 2)))\n",
    "        model.add(Dropout(params['dropout']))\n",
    "        model.add(Flatten())\n",
    "        model.add(Dense(128, activation='relu'))\n",
    "        model.add(Dropout(params['dropout']))\n",
    "        model.add(Dense(self.num_classes, activation='softmax'))\n",
    "            \n",
    "        model.compile(optimizer='adam',\n",
    "                      loss='sparse_categorical_crossentropy',\n",
    "                      metrics=['accuracy'])                 \n",
    "             \n",
    "        # fit the model\n",
    "        hist = model.fit(x=self.X, y=self.y,\n",
    "                          batch_size=params['batch_size'],\n",
    "                          validation_split=0.25,\n",
    "                          epochs=epochs)\n",
    "                 \n",
    "        loss = np.min(hist.history['val_loss'])\n",
    "                 \n",
    "        return loss"
   ]
  },
  {
   "cell_type": "code",
   "execution_count": 6,
   "metadata": {},
   "outputs": [],
   "source": [
    "optuna.logging.set_verbosity(0)"
   ]
  },
  {
   "cell_type": "markdown",
   "metadata": {},
   "source": [
    "## Prepare and run study    "
   ]
  },
  {
   "cell_type": "code",
   "execution_count": null,
   "metadata": {},
   "outputs": [],
   "source": [
    "N = 6\n",
    "max_epochs = 3\n",
    "input_shape = (28,28,1)\n",
    "num_classes = 10"
   ]
  },
  {
   "cell_type": "code",
   "execution_count": 13,
   "metadata": {
    "scrolled": false
   },
   "outputs": [
    {
     "name": "stdout",
     "output_type": "stream",
     "text": [
      "Epoch 1/2\n",
      "\u001b[1m704/704\u001b[0m \u001b[32m━━━━━━━━━━━━━━━━━━━━\u001b[0m\u001b[37m\u001b[0m \u001b[1m13s\u001b[0m 17ms/step - accuracy: 0.8830 - loss: 0.3825 - val_accuracy: 0.9796 - val_loss: 0.0682\n",
      "Epoch 2/2\n",
      "\u001b[1m704/704\u001b[0m \u001b[32m━━━━━━━━━━━━━━━━━━━━\u001b[0m\u001b[37m\u001b[0m \u001b[1m12s\u001b[0m 16ms/step - accuracy: 0.9815 - loss: 0.0623 - val_accuracy: 0.9856 - val_loss: 0.0474\n",
      "Epoch 1/2\n",
      "\u001b[1m1407/1407\u001b[0m \u001b[32m━━━━━━━━━━━━━━━━━━━━\u001b[0m\u001b[37m\u001b[0m \u001b[1m20s\u001b[0m 14ms/step - accuracy: 0.8979 - loss: 0.3201 - val_accuracy: 0.9819 - val_loss: 0.0592\n",
      "Epoch 2/2\n",
      "\u001b[1m1407/1407\u001b[0m \u001b[32m━━━━━━━━━━━━━━━━━━━━\u001b[0m\u001b[37m\u001b[0m \u001b[1m19s\u001b[0m 14ms/step - accuracy: 0.9831 - loss: 0.0549 - val_accuracy: 0.9836 - val_loss: 0.0534\n",
      "\u001b[1m704/704\u001b[0m \u001b[32m━━━━━━━━━━━━━━━━━━━━\u001b[0m\u001b[37m\u001b[0m \u001b[1m12s\u001b[0m 16ms/step - accuracy: 0.8827 - loss: 0.3733 - val_accuracy: 0.9833 - val_loss: 0.0546\n",
      "\u001b[1m704/704\u001b[0m \u001b[32m━━━━━━━━━━━━━━━━━━━━\u001b[0m\u001b[37m\u001b[0m \u001b[1m12s\u001b[0m 16ms/step - accuracy: 0.8821 - loss: 0.3887 - val_accuracy: 0.9819 - val_loss: 0.0613\n",
      "\u001b[1m704/704\u001b[0m \u001b[32m━━━━━━━━━━━━━━━━━━━━\u001b[0m\u001b[37m\u001b[0m \u001b[1m13s\u001b[0m 17ms/step - accuracy: 0.8913 - loss: 0.3407 - val_accuracy: 0.9757 - val_loss: 0.0818\n",
      "CPU times: user 1min 12s, sys: 37.5 s, total: 1min 49s\n",
      "Wall time: 1min 41s\n"
     ]
    }
   ],
   "source": [
    "%%time\n",
    "\n",
    "objective = Objective(X_train, y_train, max_epochs, input_shape, num_classes)\n",
    "study = optuna.create_study(direction='minimize')\n",
    "study.optimize(objective, n_trials=N)"
   ]
  },
  {
   "cell_type": "markdown",
   "metadata": {},
   "source": [
    "## Inspect and visualize study results"
   ]
  },
  {
   "cell_type": "code",
   "execution_count": 9,
   "metadata": {},
   "outputs": [],
   "source": [
    "df = study.trials_dataframe()"
   ]
  },
  {
   "cell_type": "code",
   "execution_count": 10,
   "metadata": {},
   "outputs": [
    {
     "data": {
      "text/html": [
       "<div>\n",
       "<style scoped>\n",
       "    .dataframe tbody tr th:only-of-type {\n",
       "        vertical-align: middle;\n",
       "    }\n",
       "\n",
       "    .dataframe tbody tr th {\n",
       "        vertical-align: top;\n",
       "    }\n",
       "\n",
       "    .dataframe thead th {\n",
       "        text-align: right;\n",
       "    }\n",
       "</style>\n",
       "<table border=\"1\" class=\"dataframe\">\n",
       "  <thead>\n",
       "    <tr style=\"text-align: right;\">\n",
       "      <th></th>\n",
       "      <th>number</th>\n",
       "      <th>value</th>\n",
       "      <th>datetime_start</th>\n",
       "      <th>datetime_complete</th>\n",
       "      <th>duration</th>\n",
       "      <th>params_batch_size</th>\n",
       "      <th>params_dropout</th>\n",
       "      <th>params_epochs</th>\n",
       "      <th>state</th>\n",
       "    </tr>\n",
       "  </thead>\n",
       "  <tbody>\n",
       "    <tr>\n",
       "      <th>0</th>\n",
       "      <td>0</td>\n",
       "      <td>0.045355</td>\n",
       "      <td>2024-11-27 15:04:53.073742</td>\n",
       "      <td>2024-11-27 15:05:22.764830</td>\n",
       "      <td>0 days 00:00:29.691088</td>\n",
       "      <td>96</td>\n",
       "      <td>0.35</td>\n",
       "      <td>3</td>\n",
       "      <td>COMPLETE</td>\n",
       "    </tr>\n",
       "    <tr>\n",
       "      <th>1</th>\n",
       "      <td>1</td>\n",
       "      <td>0.067987</td>\n",
       "      <td>2024-11-27 15:05:22.764992</td>\n",
       "      <td>2024-11-27 15:05:37.271687</td>\n",
       "      <td>0 days 00:00:14.506695</td>\n",
       "      <td>64</td>\n",
       "      <td>0.15</td>\n",
       "      <td>1</td>\n",
       "      <td>COMPLETE</td>\n",
       "    </tr>\n",
       "    <tr>\n",
       "      <th>2</th>\n",
       "      <td>2</td>\n",
       "      <td>0.051764</td>\n",
       "      <td>2024-11-27 15:05:37.271814</td>\n",
       "      <td>2024-11-27 15:05:57.435135</td>\n",
       "      <td>0 days 00:00:20.163321</td>\n",
       "      <td>96</td>\n",
       "      <td>0.35</td>\n",
       "      <td>2</td>\n",
       "      <td>COMPLETE</td>\n",
       "    </tr>\n",
       "    <tr>\n",
       "      <th>3</th>\n",
       "      <td>3</td>\n",
       "      <td>0.060558</td>\n",
       "      <td>2024-11-27 15:05:57.435226</td>\n",
       "      <td>2024-11-27 15:06:08.352475</td>\n",
       "      <td>0 days 00:00:10.917249</td>\n",
       "      <td>96</td>\n",
       "      <td>0.15</td>\n",
       "      <td>1</td>\n",
       "      <td>COMPLETE</td>\n",
       "    </tr>\n",
       "    <tr>\n",
       "      <th>4</th>\n",
       "      <td>4</td>\n",
       "      <td>0.066759</td>\n",
       "      <td>2024-11-27 15:06:08.352579</td>\n",
       "      <td>2024-11-27 15:06:21.581514</td>\n",
       "      <td>0 days 00:00:13.228935</td>\n",
       "      <td>64</td>\n",
       "      <td>0.25</td>\n",
       "      <td>1</td>\n",
       "      <td>COMPLETE</td>\n",
       "    </tr>\n",
       "  </tbody>\n",
       "</table>\n",
       "</div>"
      ],
      "text/plain": [
       "   number     value             datetime_start          datetime_complete  \\\n",
       "0       0  0.045355 2024-11-27 15:04:53.073742 2024-11-27 15:05:22.764830   \n",
       "1       1  0.067987 2024-11-27 15:05:22.764992 2024-11-27 15:05:37.271687   \n",
       "2       2  0.051764 2024-11-27 15:05:37.271814 2024-11-27 15:05:57.435135   \n",
       "3       3  0.060558 2024-11-27 15:05:57.435226 2024-11-27 15:06:08.352475   \n",
       "4       4  0.066759 2024-11-27 15:06:08.352579 2024-11-27 15:06:21.581514   \n",
       "\n",
       "                duration  params_batch_size  params_dropout  params_epochs  \\\n",
       "0 0 days 00:00:29.691088                 96            0.35              3   \n",
       "1 0 days 00:00:14.506695                 64            0.15              1   \n",
       "2 0 days 00:00:20.163321                 96            0.35              2   \n",
       "3 0 days 00:00:10.917249                 96            0.15              1   \n",
       "4 0 days 00:00:13.228935                 64            0.25              1   \n",
       "\n",
       "      state  \n",
       "0  COMPLETE  \n",
       "1  COMPLETE  \n",
       "2  COMPLETE  \n",
       "3  COMPLETE  \n",
       "4  COMPLETE  "
      ]
     },
     "execution_count": 10,
     "metadata": {},
     "output_type": "execute_result"
    }
   ],
   "source": [
    "df.head()"
   ]
  },
  {
   "cell_type": "code",
   "execution_count": 11,
   "metadata": {},
   "outputs": [],
   "source": [
    "from optuna.visualization.matplotlib import plot_param_importances"
   ]
  },
  {
   "cell_type": "code",
   "execution_count": 12,
   "metadata": {},
   "outputs": [
    {
     "name": "stderr",
     "output_type": "stream",
     "text": [
      "/var/folders/_m/95yqs0kj1xsd4l92yjkfr2hm0000gn/T/ipykernel_93478/3836449081.py:1: ExperimentalWarning: plot_param_importances is experimental (supported from v2.2.0). The interface can change in the future.\n",
      "  plot_param_importances(study)\n"
     ]
    },
    {
     "data": {
      "text/plain": [
       "<Axes: title={'left': 'Hyperparameter Importances'}, xlabel='Hyperparameter Importance', ylabel='Hyperparameter'>"
      ]
     },
     "execution_count": 12,
     "metadata": {},
     "output_type": "execute_result"
    },
    {
     "data": {
      "image/png": "[encoded data removed]",
      "text/plain": [
       "<Figure size 640x480 with 1 Axes>"
      ]
     },
     "metadata": {},
     "output_type": "display_data"
    }
   ],
   "source": [
    "plot_param_importances(study)"
   ]
  },
  {
   "cell_type": "code",
   "execution_count": null,
   "metadata": {},
   "outputs": [],
   "source": []
  }
 ],
 "metadata": {
  "kernelspec": {
   "display_name": "Python 3",
   "language": "python",
   "name": "python3"
  },
  "language_info": {
   "codemirror_mode": {
    "name": "ipython",
    "version": 3
   },
   "file_extension": ".py",
   "mimetype": "text/x-python",
   "name": "python",
   "nbconvert_exporter": "python",
   "pygments_lexer": "ipython3",
   "version": "3.11.10"
  }
 },
 "nbformat": 4,
 "nbformat_minor": 2
}
