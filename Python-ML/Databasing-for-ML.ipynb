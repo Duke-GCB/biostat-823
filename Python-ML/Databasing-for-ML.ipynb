{
 "cells": [
  {
   "cell_type": "markdown",
   "id": "5e54dafc",
   "metadata": {},
   "source": [
    "# Scalable and versatile databasing for ML\n",
    "\n",
    "Here we introduce Duckdb and Parquet, two tools that can be used to store and query data in a scalable and versatile way. We will show how to use them in Python and how to integrate them with other tools like Pandas.\n",
    "\n",
    "## Iris dataset in Pandas: recap"
   ]
  },
  {
   "cell_type": "code",
   "execution_count": null,
   "id": "4bbc40af-6f96-46ce-a130-1fbbcea722f0",
   "metadata": {},
   "outputs": [],
   "source": [
    "import pandas as pd\n",
    "from sklearn import datasets"
   ]
  },
  {
   "cell_type": "code",
   "execution_count": null,
   "id": "ed3af85b",
   "metadata": {},
   "outputs": [],
   "source": [
    "def sklearnds2df(ds):\n",
    "    df = pd.DataFrame(data=ds.data, columns=ds.feature_names)\n",
    "    df['target'] = pd.Series(pd.Categorical.from_codes(ds.target,\n",
    "                                                       categories=ds.target_names))\n",
    "    return df"
   ]
  },
  {
   "cell_type": "code",
   "execution_count": null,
   "id": "cc8ff27c",
   "metadata": {},
   "outputs": [],
   "source": [
    "iris_ds = datasets.load_iris()\n",
    "iris = sklearnds2df(iris_ds)\n",
    "iris.columns = iris.columns.str.removesuffix(\" (cm)\").str.replace(\" \",\"_\")\n",
    "iris"
   ]
  },
  {
   "cell_type": "code",
   "execution_count": null,
   "id": "2283d5eb",
   "metadata": {},
   "outputs": [],
   "source": [
    "iris_sepals = iris[['sepal_length','sepal_width','target']]\n",
    "iris_petals = iris[['petal_length','petal_width','target']]"
   ]
  },
  {
   "cell_type": "code",
   "execution_count": null,
   "id": "ddbe9e3a",
   "metadata": {},
   "outputs": [],
   "source": [
    "pd.merge(iris_sepals, iris_petals, how='inner', on='target')"
   ]
  },
  {
   "cell_type": "code",
   "execution_count": null,
   "id": "abbd17d0",
   "metadata": {},
   "outputs": [],
   "source": [
    "pd.merge(iris_sepals, iris_petals, left_index=True, right_index=True, how='inner')"
   ]
  },
  {
   "cell_type": "code",
   "execution_count": null,
   "id": "17fc8f4e",
   "metadata": {},
   "outputs": [],
   "source": [
    "def create_col_subset(df, prefix):\n",
    "    dfs = df.filter(regex=f\"^{prefix}\")\n",
    "    dfs = pd.concat([dfs, df.select_dtypes(include='category')], axis=1)\n",
    "    dfs.index = [f\"P{i:03d}\" for i in iris.index.values]\n",
    "    dfs.columns = dfs.columns.str.removeprefix(prefix)\n",
    "    return dfs.reset_index(names='ID')\n",
    "iris_sepals = create_col_subset(iris, 'sepal_')\n",
    "iris_petals = create_col_subset(iris, 'petal_')\n",
    "iris_sepals"
   ]
  },
  {
   "cell_type": "code",
   "execution_count": null,
   "id": "2d0d61ab",
   "metadata": {},
   "outputs": [],
   "source": [
    "pd.merge(iris_sepals, iris_petals, on='ID', how='inner', suffixes=('_sepal','_petal'))"
   ]
  },
  {
   "cell_type": "markdown",
   "id": "5910f8a4",
   "metadata": {},
   "source": [
    "The point isn't that this isn't possible with Pandas. The point is that we are using the wrong tool for the job. Pandas is great for data manipulation, but it's not a database. It's not designed to store and query data efficiently. It's designed to manipulate data efficiently. _(Adapted from a Copilot autocompletion, which says something about how common this problem is.)_"
   ]
  },
  {
   "cell_type": "markdown",
   "id": "fe001188",
   "metadata": {},
   "source": [
    "# The database way: Duckdb"
   ]
  },
  {
   "cell_type": "code",
   "execution_count": null,
   "id": "f96bab02",
   "metadata": {},
   "outputs": [],
   "source": [
    "import duckdb"
   ]
  },
  {
   "cell_type": "code",
   "execution_count": null,
   "id": "adef1254",
   "metadata": {},
   "outputs": [],
   "source": [
    "db = duckdb.from_df(iris)\n",
    "db"
   ]
  },
  {
   "cell_type": "code",
   "execution_count": null,
   "id": "91e26c66",
   "metadata": {},
   "outputs": [],
   "source": [
    "(type(db), db.shape, db.columns)"
   ]
  },
  {
   "cell_type": "code",
   "execution_count": null,
   "id": "b1746709",
   "metadata": {},
   "outputs": [],
   "source": [
    "duckdb.sql(\"select * from db limit 5\")"
   ]
  },
  {
   "cell_type": "code",
   "execution_count": null,
   "id": "e4bd570c",
   "metadata": {},
   "outputs": [],
   "source": [
    "duckdb.sql(\"select min(sepal_width), max(sepal_width) from db\")"
   ]
  },
  {
   "cell_type": "code",
   "execution_count": null,
   "id": "ac3a7d17",
   "metadata": {},
   "outputs": [],
   "source": [
    "duckdb.sql(\"select target, avg(sepal_length), avg(sepal_width) from db group by target\")"
   ]
  },
  {
   "cell_type": "markdown",
   "id": "5ff75e73",
   "metadata": {},
   "source": [
    "### Duckdb can access dataframes directly"
   ]
  },
  {
   "cell_type": "code",
   "execution_count": null,
   "id": "680880a8",
   "metadata": {},
   "outputs": [],
   "source": [
    "duckdb.sql(\"select target, avg(sepal_length), avg(sepal_width) from iris group by target\")"
   ]
  },
  {
   "cell_type": "code",
   "execution_count": null,
   "id": "48344a5e",
   "metadata": {},
   "outputs": [],
   "source": [
    "duckdb.sql(\"select s.ID as sID, p.ID as pID, s.length as sepal_length, s.width as sepal_width, \"\n",
    "           \"p.length as petal_length, p.width as petal_width, p.target as species \"\n",
    "           \"from iris_sepals as s positional join iris_petals as p \")"
   ]
  },
  {
   "cell_type": "markdown",
   "id": "554b9655",
   "metadata": {},
   "source": [
    "### Duckdb can read online datasets"
   ]
  },
  {
   "cell_type": "markdown",
   "id": "e709ee10",
   "metadata": {},
   "source": [
    "#### [HuggingFace](https://hf.co) (HF)\n",
    "\n",
    "- One of if not the most widely used ML commons for models and datasets\n",
    "- Datasets are easy to use and have a lot of datasets.\n",
    "\n",
    "Duckdb can read datasets directly from HF. (In fact, Pandas can, too.) We can start with the [Iris dataset from scikit-learn](https://hf.co/datasets/scikit-learn/iris/) on HF."
   ]
  },
  {
   "cell_type": "code",
   "execution_count": null,
   "id": "72b9e80e",
   "metadata": {},
   "outputs": [],
   "source": []
  },
  {
   "cell_type": "markdown",
   "id": "e2e28abe",
   "metadata": {},
   "source": [
    "#### fsspec and HF"
   ]
  },
  {
   "cell_type": "code",
   "execution_count": null,
   "id": "a16cadd6-2e16-4765-aad1-d3933498491e",
   "metadata": {},
   "outputs": [],
   "source": [
    "import fsspec\n",
    "fsspec.filesystem('hf').ls('hf://datasets/scikit-learn/iris@~parquet')"
   ]
  },
  {
   "cell_type": "code",
   "execution_count": null,
   "id": "9ead309b-d693-40f9-9412-9cab0d743247",
   "metadata": {},
   "outputs": [],
   "source": [
    "df"
   ]
  },
  {
   "cell_type": "code",
   "execution_count": null,
   "id": "e917ae17",
   "metadata": {},
   "outputs": [],
   "source": [
    "duckdb.read_csv(\"hf://datasets/scikit-learn/iris/Iris.csv\")"
   ]
  },
  {
   "cell_type": "markdown",
   "id": "6c8ce089",
   "metadata": {},
   "source": [
    "### Parquet format\n",
    "\n"
   ]
  },
  {
   "cell_type": "code",
   "execution_count": null,
   "id": "8850777c-3054-4f82-a895-2693744b6a99",
   "metadata": {},
   "outputs": [],
   "source": [
    "pdb = duckdb.read_parquet(\"hf://datasets/scikit-learn/iris@~parquet/default/train/0000.parquet\")\n",
    "pdb"
   ]
  },
  {
   "cell_type": "code",
   "execution_count": null,
   "id": "607fe3a6-522b-4503-a06e-e82732b3f552",
   "metadata": {},
   "outputs": [],
   "source": [
    "rel"
   ]
  },
  {
   "cell_type": "code",
   "execution_count": null,
   "id": "d13e34ac-749a-4173-a352-b6435ba403bd",
   "metadata": {},
   "outputs": [],
   "source": [
    "duckdb.sql(\"select * from rel where species = 'Iris-setosa'\")"
   ]
  },
  {
   "cell_type": "code",
   "execution_count": null,
   "id": "7340aeec-754e-40d9-9a5c-c8c78c28e1fd",
   "metadata": {},
   "outputs": [],
   "source": []
  }
 ],
 "metadata": {
  "kernelspec": {
   "display_name": "Python 3",
   "language": "python",
   "name": "python3"
  },
  "language_info": {
   "codemirror_mode": {
    "name": "ipython",
    "version": 3
   },
   "file_extension": ".py",
   "mimetype": "text/x-python",
   "name": "python",
   "nbconvert_exporter": "python",
   "pygments_lexer": "ipython3",
   "version": "3.11.10"
  }
 },
 "nbformat": 4,
 "nbformat_minor": 5
}
