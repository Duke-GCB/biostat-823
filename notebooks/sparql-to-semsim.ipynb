{
 "cells": [
  {
   "cell_type": "markdown",
   "id": "30be0dd8-622c-497f-9e4d-443de4754761",
   "metadata": {},
   "source": [
    "# Semantic similarity from binary vector encodings\n",
    "\n",
    "The standard definitions for semantic similarity are typically based on some notion of sets, and operations on them (specifically, length, intersection, union). For example, the Jaccard similarity between two ontology concepts (terms) $C_1$ and $C_2$ is defined as the following:\n",
    "$$SimJ(C_1,C_2)=\\frac{|S(C_1)\\cap S(C_2)|}{|S(C_1)\\cup S(C_2)|}$$\n",
    "where $S(C)$ is the set of subsumers of $C$ (concepts considered subsuming concept $C$, directly or transitively): $\\forall D\\in S(C): C\\sqsubseteq D$. (Hence, $C$ is always included in $S(C)$.\n",
    "\n",
    "## Motivation\n",
    "Set operations typically take loops to evaluate, and thus cannot easily take advantage of vector and/or matrix alegbra (and the accelerations available to those).\n",
    "\n",
    "However, by using a binary vector encoding we can use fast vector algebra for most (all?) semantic similarity metric calculatiobs. A binary vector encoding **S** for a concept _C_ is the following:\n",
    "$$\\mathbf{S}_C: s_i=\\begin{cases}1\\;\\mathrm{if}\\ C_i\\in S(C)\\\\ 0\\; \\mathrm{otherwise}\\end{cases}$$\n",
    "where $C_i,\\dots,C_n$ are ontology terms. $C_i,\\dots,C_n$ could be all concepts in the ontology; but include at least all subsumers of $C$ and all other concepts that are to be compared.\n",
    "\n",
    "Here we will see how we can obtain such an encoding from a triple store, starting with a SPARQL query.\n",
    "\n",
    "## Obtain adjancy table"
   ]
  },
  {
   "cell_type": "code",
   "execution_count": null,
   "id": "66f91125-6b2b-4797-9015-895aa5e40fea",
   "metadata": {},
   "outputs": [],
   "source": [
    "import pandas as pd\n",
    "import numpy as np\n",
    "from SPARQLWrapper import get_sparql_dataframe\n",
    "\n",
    "SPARQL_ENDP = \"https://ubergraph.apps.renci.org/sparql\""
   ]
  },
  {
   "cell_type": "code",
   "execution_count": null,
   "id": "3623b6ee-eb64-4fbe-ab34-5cb86c88eff8",
   "metadata": {},
   "outputs": [],
   "source": [
    "adjTable = get_sparql_dataframe(endpoint=SPARQL_ENDP, query=\"\"\"\n",
    "PREFIX obo: <http://purl.obolibrary.org/obo/>\n",
    "PREFIX renci: <http://reasoner.renci.org/vocab/>\n",
    "PREFIX rdf: <http://www.w3.org/1999/02/22-rdf-syntax-ns#>\n",
    "PREFIX rdfs: <http://www.w3.org/2000/01/rdf-schema#>\n",
    "PREFIX owl: <http://www.w3.org/2002/07/owl#>\n",
    "\n",
    "SELECT DISTINCT ?fin ?finLabel ?super ?ic\n",
    "FROM <http://reasoner.renci.org/ontology>\n",
    "FROM <http://reasoner.renci.org/nonredundant>\n",
    "WHERE {\n",
    "  VALUES ?fin {\n",
    "    obo:UBERON_0000151 obo:UBERON_0000152 obo:UBERON_4000163 obo:UBERON_4000164\n",
    "    obo:UBERON_0003097 obo:UBERON_2000251 obo:UBERON_0002102 obo:UBERON_0002103\n",
    "  }\n",
    "  ?fin rdfs:label ?finLabel ;\n",
    "       rdfs:subClassOf* ?super .\n",
    "  ?super rdf:type owl:Class .\n",
    "  ?super renci:normalizedSubClassInformationContent ?ic .\n",
    "}\n",
    "\"\"\")"
   ]
  },
  {
   "cell_type": "code",
   "execution_count": null,
   "id": "fdb263d4-6f47-45c8-9dfa-528576ec4534",
   "metadata": {},
   "outputs": [],
   "source": [
    "adjTable"
   ]
  },
  {
   "cell_type": "markdown",
   "id": "62cb3aa3-6e68-4009-b917-77613683b4ce",
   "metadata": {},
   "source": [
    "## Cross-tabulate to obtain binary encoded vectors"
   ]
  },
  {
   "cell_type": "code",
   "execution_count": null,
   "id": "e7775c2e-8027-4600-b257-47b957408dfd",
   "metadata": {},
   "outputs": [],
   "source": [
    "subsumM = pd.crosstab(adjTable[\"finLabel\"], adjTable[\"super\"])"
   ]
  },
  {
   "cell_type": "code",
   "execution_count": null,
   "id": "32e81b39-2dad-4312-81d0-f74c78d2d130",
   "metadata": {},
   "outputs": [],
   "source": [
    "subsumM.T"
   ]
  },
  {
   "cell_type": "code",
   "execution_count": null,
   "id": "124d0de1-9195-416b-8ec7-a7b1e8d27d63",
   "metadata": {},
   "outputs": [],
   "source": [
    "subsumM.loc[\"pectoral fin\",]"
   ]
  },
  {
   "cell_type": "markdown",
   "id": "bc75d9dc-2d33-477d-8a63-2414c07809fa",
   "metadata": {},
   "source": [
    "## Using vector algebra on binary encoded vectors\n",
    "\n",
    "We can now use standard vector algebra operations to obtain the number of common subsumers (i.e. ancestors) for two concepts as the dot product:"
   ]
  },
  {
   "cell_type": "code",
   "execution_count": null,
   "id": "ded08060-5bfe-4417-b326-dcb7118442b3",
   "metadata": {},
   "outputs": [],
   "source": [
    "np.sum(subsumM.loc[\"pectoral fin\",] * subsumM.loc[\"adipose fin\",])"
   ]
  },
  {
   "cell_type": "markdown",
   "id": "1cf22fa6-0028-4868-a7eb-5f0d439848dc",
   "metadata": {},
   "source": [
    "Remember the equation for deriving the Jaccard similarity from binary vectors:\n",
    "$$SimJ(C_1,C_2)=\\frac{\\mathbf{S}_{C_1}\\cdot\\mathbf{S}_{C_2}}{||\\mathbf{S}_{C_1}||^2+||\\mathbf{S}_{C_2}||^2-\\mathbf{S}_{C_1}\\cdot\\mathbf{S}_{C_2}}$$\n",
    "\n",
    "The dot product of each pair of vectors is the numerator (i.e., number of ancestors in common). We can compute these using matrix dot product:"
   ]
  },
  {
   "cell_type": "code",
   "execution_count": null,
   "id": "5de583e2-b658-4e0e-80d5-fbd456119d20",
   "metadata": {},
   "outputs": [],
   "source": [
    "simM = np.dot(subsumM, subsumM.T)"
   ]
  },
  {
   "cell_type": "markdown",
   "id": "84f571c9-0d50-4f38-ad88-d16af1e8e3d9",
   "metadata": {},
   "source": [
    "The diagonal of the resulting matrix are the numbers of subsumers (i.e., ancestors) for each vector-encoded term:"
   ]
  },
  {
   "cell_type": "code",
   "execution_count": null,
   "id": "46775897-9e96-46b1-844d-784de5751fd3",
   "metadata": {},
   "outputs": [],
   "source": [
    "nsubsum = np.diag(simM)"
   ]
  },
  {
   "cell_type": "code",
   "execution_count": null,
   "id": "284d7316-335e-43cb-9738-60d5c48d2244",
   "metadata": {},
   "outputs": [],
   "source": [
    "simM"
   ]
  },
  {
   "cell_type": "code",
   "execution_count": null,
   "id": "5428fb4d-a67a-487d-9a59-5cf9c6c8b12f",
   "metadata": {},
   "outputs": [],
   "source": [
    "nsubsum"
   ]
  },
  {
   "cell_type": "markdown",
   "id": "2b12766c-3efc-4f88-8da5-e8781d8e9606",
   "metadata": {},
   "source": [
    "For the denominator we can start with the negative of the numerator, then add the diagonal as row vector and as column vector:"
   ]
  },
  {
   "cell_type": "code",
   "execution_count": null,
   "id": "f766ca7f-1982-46e8-8ae7-5bed1108bb34",
   "metadata": {},
   "outputs": [],
   "source": [
    "denom = -simM"
   ]
  },
  {
   "cell_type": "code",
   "execution_count": null,
   "id": "1e4f02ba-abf9-4ad4-bbdb-f67d89a8c62f",
   "metadata": {},
   "outputs": [],
   "source": [
    "denom = ((denom + nsubsum).T + nsubsum).T"
   ]
  },
  {
   "cell_type": "code",
   "execution_count": null,
   "id": "4003c85a-110b-4900-ba2c-d5ab74a3bc5a",
   "metadata": {},
   "outputs": [],
   "source": [
    "simJC = simM / denom"
   ]
  },
  {
   "cell_type": "code",
   "execution_count": null,
   "id": "cda6bb35-d53d-4d23-afde-d6978cbc9b25",
   "metadata": {},
   "outputs": [],
   "source": [
    "pd.DataFrame(simJC, index=subsumM.index, columns=subsumM.index)"
   ]
  },
  {
   "cell_type": "markdown",
   "id": "886ac16f-4655-4900-8947-88d40e07ce6a",
   "metadata": {},
   "source": [
    "## Using semantic similarity for clustering\n",
    "\n",
    "Remember that $1-SimJ$ is a proper distance metric (satisfies the triangle inequality)."
   ]
  },
  {
   "cell_type": "code",
   "execution_count": null,
   "id": "54c2aef6-c754-44a6-95d1-9aa91ef516e5",
   "metadata": {},
   "outputs": [],
   "source": [
    "import scipy.cluster.hierarchy as hclust\n",
    "import scipy.spatial.distance as dist\n",
    "import matplotlib.pyplot as plt"
   ]
  },
  {
   "cell_type": "code",
   "execution_count": null,
   "id": "e8963173-974d-4fdf-a4df-c5bca01d4f04",
   "metadata": {},
   "outputs": [],
   "source": [
    "# Convert the distance matrix to a condensed form (required for hierarchical clustering)\n",
    "distM = dist.squareform(1 - simJC)\n",
    "\n",
    "# Perform hierarchical/agglomerative clustering\n",
    "Z = hclust.linkage(distM, method='average')  # You can also use 'single', 'average', etc.\n",
    "\n",
    "# Create a dendrogram\n",
    "plt.figure(figsize=(10, 6))\n",
    "hclust.dendrogram(Z, labels=subsumM.index)  # Add labels if desired\n",
    "plt.title('Hierarchical Clustering Dendrogram')\n",
    "plt.xlabel('Anatomical Entity')\n",
    "plt.ylabel('Distance')\n",
    "plt.show()"
   ]
  },
  {
   "cell_type": "markdown",
   "id": "91777df7-1371-43e5-851c-6d7285528982",
   "metadata": {},
   "source": [
    "## Using SciPy distance metrics\n",
    "\n",
    "We can also use the binary-encoded term vectors to obtain pairwise distances from the SciPy library. This includes Jaccard."
   ]
  },
  {
   "cell_type": "code",
   "execution_count": null,
   "id": "9cc86aff-8767-4b8c-904d-fe9dedb04c20",
   "metadata": {},
   "outputs": [],
   "source": [
    "distM = dist.pdist(subsumM, metric=\"jaccard\")"
   ]
  },
  {
   "cell_type": "code",
   "execution_count": null,
   "id": "4f29ee16-1383-4828-ae5d-d80c1a72a5c6",
   "metadata": {},
   "outputs": [],
   "source": [
    "dist.squareform(distM) - (1-simJC)"
   ]
  },
  {
   "cell_type": "code",
   "execution_count": null,
   "id": "83a2af64-4878-4e03-9779-b87292158a03",
   "metadata": {},
   "outputs": [],
   "source": [
    "# Perform hierarchical/agglomerative clustering\n",
    "Z = hclust.linkage(distM, method='average')  # You can also use 'single', 'average', etc.\n",
    "\n",
    "# Create a dendrogram\n",
    "plt.figure(figsize=(10, 6))\n",
    "hclust.dendrogram(Z, labels=subsumM.index)  # Add labels if desired\n",
    "plt.title('Hierarchical Clustering Dendrogram')\n",
    "plt.xlabel('Anatomical Entity')\n",
    "plt.ylabel('Distance')\n",
    "plt.show()"
   ]
  },
  {
   "cell_type": "code",
   "execution_count": null,
   "id": "d7469cc2-6d4f-46ce-9325-d4f9071c7c4c",
   "metadata": {},
   "outputs": [],
   "source": []
  }
 ],
 "metadata": {
  "kernelspec": {
   "display_name": "Python 3 (ipykernel)",
   "language": "python",
   "name": "python3"
  },
  "language_info": {
   "codemirror_mode": {
    "name": "ipython",
    "version": 3
   },
   "file_extension": ".py",
   "mimetype": "text/x-python",
   "name": "python",
   "nbconvert_exporter": "python",
   "pygments_lexer": "ipython3",
   "version": "3.11.10"
  }
 },
 "nbformat": 4,
 "nbformat_minor": 5
}
